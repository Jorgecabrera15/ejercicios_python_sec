{
  "nbformat": 4,
  "nbformat_minor": 0,
  "metadata": {
    "colab": {
      "provenance": [],
      "authorship_tag": "ABX9TyMlkqSRhDuDvKVh3+V3cVyc",
      "include_colab_link": true
    },
    "kernelspec": {
      "name": "python3",
      "display_name": "Python 3"
    },
    "language_info": {
      "name": "python"
    }
  },
  "cells": [
    {
      "cell_type": "markdown",
      "metadata": {
        "id": "view-in-github",
        "colab_type": "text"
      },
      "source": [
        "<a href=\"https://colab.research.google.com/github/Jorgecabrera15/ejercicios_python_sec/blob/main/ejercicios.ipynb\" target=\"_parent\"><img src=\"https://colab.research.google.com/assets/colab-badge.svg\" alt=\"Open In Colab\"/></a>"
      ]
    },
    {
      "cell_type": "code",
      "execution_count": 7,
      "metadata": {
        "id": "Bqz5X968buNY",
        "outputId": "144a890e-4377-4527-9b20-1ac0145365ea",
        "colab": {
          "base_uri": "https://localhost:8080/"
        }
      },
      "outputs": [
        {
          "output_type": "stream",
          "name": "stdout",
          "text": [
            "escriba su nombrejorge cabrera\n",
            "cual es tu edad19\n",
            "hola, jorge cabrera\n",
            "tienes 19 años\n"
          ]
        }
      ],
      "source": [
        "name = input(\"escriba su nombre\")\n",
        "\n",
        "age = int(input(\"cual es tu edad\"))\n",
        "print(\"hola,\", name)\n",
        "print(\"tienes\", str(age), \"años\")"
      ]
    },
    {
      "cell_type": "markdown",
      "source": [
        "Ejercicio 1-calcular el area de un triangulo"
      ],
      "metadata": {
        "id": "m5JDo_ZiemEO"
      }
    },
    {
      "cell_type": "code",
      "source": [
        "##calcular el area de un rectangulo\n",
        "print(\"programa para el calculo del area de un rectangulo\")\n",
        "b = float(input(\"ingrese la base (m):\"))\n",
        "h = float(input(\"ingrese la altura (m):\"))\n",
        "A = b*h\n",
        "print(\"el area del rectangulo con base\" , str(b), \"(m) y altura\", str(h), \"(m) es\", str(A), \"m2\")\n"
      ],
      "metadata": {
        "colab": {
          "base_uri": "https://localhost:8080/"
        },
        "id": "zb0CHVVHecDs",
        "outputId": "9da98c76-9194-4b35-e1ca-841f02570a5c"
      },
      "execution_count": 10,
      "outputs": [
        {
          "output_type": "stream",
          "name": "stdout",
          "text": [
            "programa para el calculo del area de un rectangulo\n",
            "ingrese la base (m):5\n",
            "ingrese la altura (m):10\n",
            "el area del rectangulo con base 5.0 (m) y altura 10.0 (m) es 50.0 m2\n"
          ]
        }
      ]
    },
    {
      "cell_type": "markdown",
      "source": [
        "##calcular el area de un triangulo\n",
        "\n"
      ],
      "metadata": {
        "id": "YVT58D4GhAke"
      }
    },
    {
      "cell_type": "code",
      "source": [
        "##calcular el area de un triangulo\n",
        "print(\"programa para el calculo del area de un triangulo\")\n",
        "b = float(input(\"ingrese la base (m):\"))\n",
        "h = float(input(\"ingrese la altura (m):\"))\n",
        "A = (b*h)/2\n",
        "print(\"el area del triangulo con base\" , str(b), \"(m) y altura\", str(h), \"(m) es\", str(A), \"m2\")\n"
      ],
      "metadata": {
        "outputId": "e365664c-7fa9-486c-a610-0944c117fcd4",
        "colab": {
          "base_uri": "https://localhost:8080/"
        },
        "id": "-K5PvLMahxx2"
      },
      "execution_count": 11,
      "outputs": [
        {
          "output_type": "stream",
          "name": "stdout",
          "text": [
            "programa para el calculo del area de un triangulo\n",
            "ingrese la base (m):5\n",
            "ingrese la altura (m):10\n",
            "el area del triangulo con base 5.0 (m) y altura 10.0 (m) es 25.0 m2\n"
          ]
        }
      ]
    },
    {
      "cell_type": "code",
      "source": [
        "##calcular el area de un circulo\n",
        "import math\n",
        "print(\"programa para el calculo del area de un circulo\")\n",
        "r = float(input(\"ingrese el radio (m):\"))\n",
        "A=math.pi*(r**2)\n",
        "print(\"EL AREA DEL CIRCULO CON RADIO\", str(r), \"(m) es\",str(A), \"m2\")"
      ],
      "metadata": {
        "id": "iVHxD5AfiKOc",
        "outputId": "010dc306-6b61-4c5d-cda8-cfb2baf6dafb",
        "colab": {
          "base_uri": "https://localhost:8080/"
        }
      },
      "execution_count": 18,
      "outputs": [
        {
          "output_type": "stream",
          "name": "stdout",
          "text": [
            "programa para el calculo del area de un circulo\n",
            "ingrese el radio (m):12.5\n",
            "EL AREA DEL CIRCULO CON RADIO 12.5 (m) es 490.8738521234052 m2\n"
          ]
        }
      ]
    },
    {
      "cell_type": "markdown",
      "source": [
        "##calcular el voltaje instantaneo\n",
        "theta = ang * pi/180\n",
        "omega = 2*pi*f\n",
        "v = amp*cos(omega*t+theta)\n",
        "\n"
      ],
      "metadata": {
        "id": "5bkeqAWtk1bP"
      }
    },
    {
      "cell_type": "code",
      "source": [
        "import math\n",
        "print(\"programa para calcular el voltaje instantaneo\")\n",
        "v= float(input(\"ingrese la amplitud (v):\"))\n",
        "f=float(input(\"ingrese la frecuencia(Hz)\"))\n",
        "ang = float(input(\"ingrese el angulo de fase(°):\"))\n",
        "t= float(input(\"ingrese el instante de tiempo(s):\"))\n",
        "\n",
        "omega = 2*math.pi*f\n",
        "theta= ang* math.pi/180\n",
        "v_t = v * math.cos(omega * t + theta)\n",
        "print(\"el voltaje instantaneo para los datosengresados es: \", str(v_t), \"v.\")\n"
      ],
      "metadata": {
        "id": "qDUCULLKlpP1",
        "outputId": "0f3454f5-8bd4-4490-ee67-4cd8f5de6168",
        "colab": {
          "base_uri": "https://localhost:8080/"
        }
      },
      "execution_count": 27,
      "outputs": [
        {
          "output_type": "stream",
          "name": "stdout",
          "text": [
            "programa para calcular el voltaje instantaneo\n",
            "ingrese la amplitud (v):5\n",
            "ingrese la frecuencia(Hz)56\n",
            "ingrese el angulo de fase(°):6\n",
            "ingrese el instante de tiempo(s):6\n",
            "el voltaje instantaneo para los datosengresados es:  4.9726094768413125 v.\n"
          ]
        }
      ]
    },
    {
      "cell_type": "code",
      "source": [],
      "metadata": {
        "id": "H1ulBolnqQrj"
      },
      "execution_count": null,
      "outputs": []
    }
  ]
}